{
 "cells": [
  {
   "cell_type": "code",
   "execution_count": 1,
   "id": "b671f256",
   "metadata": {},
   "outputs": [],
   "source": [
    "import numpy as np\n",
    "import pandas as pd\n",
    "import matplotlib.pyplot as plt\n",
    "import math as math\n",
    "from sklearn.linear_model import LinearRegression\n",
    "from sklearn.model_selection import train_test_split\n",
    "from sklearn.metrics import root_mean_squared_log_error as rmsle\n",
    "from sklearn.metrics import root_mean_squared_error as rmse\n",
    "from sklearn.model_selection import GridSearchCV\n",
    "from sklearn.metrics import make_scorer, accuracy_score\n",
    "from sklearn.model_selection import KFold\n",
    "import seaborn as sns\n",
    "import itertools"
   ]
  },
  {
   "cell_type": "code",
   "execution_count": 2,
   "id": "c7ccd80e",
   "metadata": {},
   "outputs": [
    {
     "data": {
      "text/html": [
       "<div>\n",
       "<style scoped>\n",
       "    .dataframe tbody tr th:only-of-type {\n",
       "        vertical-align: middle;\n",
       "    }\n",
       "\n",
       "    .dataframe tbody tr th {\n",
       "        vertical-align: top;\n",
       "    }\n",
       "\n",
       "    .dataframe thead th {\n",
       "        text-align: right;\n",
       "    }\n",
       "</style>\n",
       "<table border=\"1\" class=\"dataframe\">\n",
       "  <thead>\n",
       "    <tr style=\"text-align: right;\">\n",
       "      <th></th>\n",
       "      <th>Sex</th>\n",
       "      <th>Age</th>\n",
       "      <th>Height</th>\n",
       "      <th>Weight</th>\n",
       "      <th>Duration</th>\n",
       "      <th>Heart_Rate</th>\n",
       "      <th>Body_Temp</th>\n",
       "      <th>Calories</th>\n",
       "    </tr>\n",
       "  </thead>\n",
       "  <tbody>\n",
       "    <tr>\n",
       "      <th>0</th>\n",
       "      <td>male</td>\n",
       "      <td>36</td>\n",
       "      <td>189</td>\n",
       "      <td>82</td>\n",
       "      <td>26</td>\n",
       "      <td>101</td>\n",
       "      <td>41.0</td>\n",
       "      <td>150</td>\n",
       "    </tr>\n",
       "    <tr>\n",
       "      <th>1</th>\n",
       "      <td>female</td>\n",
       "      <td>64</td>\n",
       "      <td>163</td>\n",
       "      <td>60</td>\n",
       "      <td>8</td>\n",
       "      <td>85</td>\n",
       "      <td>39.7</td>\n",
       "      <td>34</td>\n",
       "    </tr>\n",
       "    <tr>\n",
       "      <th>2</th>\n",
       "      <td>female</td>\n",
       "      <td>51</td>\n",
       "      <td>161</td>\n",
       "      <td>64</td>\n",
       "      <td>7</td>\n",
       "      <td>84</td>\n",
       "      <td>39.8</td>\n",
       "      <td>29</td>\n",
       "    </tr>\n",
       "    <tr>\n",
       "      <th>3</th>\n",
       "      <td>male</td>\n",
       "      <td>20</td>\n",
       "      <td>192</td>\n",
       "      <td>90</td>\n",
       "      <td>25</td>\n",
       "      <td>105</td>\n",
       "      <td>40.7</td>\n",
       "      <td>140</td>\n",
       "    </tr>\n",
       "    <tr>\n",
       "      <th>4</th>\n",
       "      <td>female</td>\n",
       "      <td>38</td>\n",
       "      <td>166</td>\n",
       "      <td>61</td>\n",
       "      <td>25</td>\n",
       "      <td>102</td>\n",
       "      <td>40.6</td>\n",
       "      <td>146</td>\n",
       "    </tr>\n",
       "  </tbody>\n",
       "</table>\n",
       "</div>"
      ],
      "text/plain": [
       "      Sex  Age  Height  Weight  Duration  Heart_Rate  Body_Temp  Calories\n",
       "0    male   36     189      82        26         101       41.0       150\n",
       "1  female   64     163      60         8          85       39.7        34\n",
       "2  female   51     161      64         7          84       39.8        29\n",
       "3    male   20     192      90        25         105       40.7       140\n",
       "4  female   38     166      61        25         102       40.6       146"
      ]
     },
     "execution_count": 2,
     "metadata": {},
     "output_type": "execute_result"
    }
   ],
   "source": [
    "train = pd.read_csv(\"train_comp.csv\")\n",
    "test = pd.read_csv(\"test_comp.csv\")\n",
    "# sample = pd.read_csv(\"sample_submission.csv\")\n",
    "\n",
    "train.head()"
   ]
  },
  {
   "cell_type": "markdown",
   "id": "b922c4dd",
   "metadata": {},
   "source": [
    "The simplest baseline prediction is taking the mean of calories."
   ]
  },
  {
   "cell_type": "code",
   "execution_count": null,
   "id": "41e89a7d",
   "metadata": {},
   "outputs": [
    {
     "name": "stdout",
     "output_type": "stream",
     "text": [
      "       id   Calories\n",
      "0  750000  88.282781\n",
      "1  750001  88.282781\n",
      "2  750002  88.282781\n",
      "3  750003  88.282781\n",
      "4  750004  88.282781\n",
      "\n",
      "count    250000.000000\n",
      "mean         88.282781\n",
      "std           0.000000\n",
      "min          88.282781\n",
      "25%          88.282781\n",
      "50%          88.282781\n",
      "75%          88.282781\n",
      "max          88.282781\n",
      "Name: Calories, dtype: float64\n"
     ]
    }
   ],
   "source": [
    "# make the submission file! - Kaggle score 1.02164\n",
    "\n",
    "pred = np.ones(len(test))*train['Calories'].mean()\n",
    "\n",
    "submission = pd.DataFrame()\n",
    "\n",
    "submission['id'] = np.arange(len(test))+750000\n",
    "submission['Calories'] = pred\n",
    "\n",
    "submission.to_csv(\"baseline.csv\", index=False)\n",
    "\n",
    "print(submission.head())\n",
    "print()\n",
    "print(submission['Calories'].describe())"
   ]
  }
 ],
 "metadata": {
  "kernelspec": {
   "display_name": "erdos_summer_2025",
   "language": "python",
   "name": "python3"
  },
  "language_info": {
   "codemirror_mode": {
    "name": "ipython",
    "version": 3
   },
   "file_extension": ".py",
   "mimetype": "text/x-python",
   "name": "python",
   "nbconvert_exporter": "python",
   "pygments_lexer": "ipython3",
   "version": "3.12.10"
  }
 },
 "nbformat": 4,
 "nbformat_minor": 5
}
